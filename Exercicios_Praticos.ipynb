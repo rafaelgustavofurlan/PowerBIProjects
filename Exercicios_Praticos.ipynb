{
  "nbformat": 4,
  "nbformat_minor": 0,
  "metadata": {
    "colab": {
      "provenance": [],
      "authorship_tag": "ABX9TyNUwvZNfNHDscgsFlhdZLK8",
      "include_colab_link": true
    },
    "kernelspec": {
      "name": "python3",
      "display_name": "Python 3"
    },
    "language_info": {
      "name": "python"
    }
  },
  "cells": [
    {
      "cell_type": "markdown",
      "metadata": {
        "id": "view-in-github",
        "colab_type": "text"
      },
      "source": [
        "<a href=\"https://colab.research.google.com/github/rafaelgustavofurlan/PowerBIProjects/blob/main/Exercicios_Praticos.ipynb\" target=\"_parent\"><img src=\"https://colab.research.google.com/assets/colab-badge.svg\" alt=\"Open In Colab\"/></a>"
      ]
    },
    {
      "cell_type": "markdown",
      "source": [
        "# Bibliotecas"
      ],
      "metadata": {
        "id": "vkDjJXAebCky"
      }
    },
    {
      "cell_type": "markdown",
      "source": [
        "## Exercicio 1\n",
        "\n",
        "Escreva um código para instalar a versão 3.7.1 da biblioteca matplotlib."
      ],
      "metadata": {
        "id": "IezX5GVFO04z"
      }
    },
    {
      "cell_type": "code",
      "source": [
        "!pip install matplotlib==3.7.1"
      ],
      "metadata": {
        "colab": {
          "base_uri": "https://localhost:8080/"
        },
        "id": "s4eovcDlO2EE",
        "outputId": "ca9591f1-e955-40f6-df55-4927de30d105"
      },
      "execution_count": null,
      "outputs": [
        {
          "output_type": "stream",
          "name": "stdout",
          "text": [
            "Requirement already satisfied: matplotlib==3.7.1 in /usr/local/lib/python3.10/dist-packages (3.7.1)\n",
            "Requirement already satisfied: contourpy>=1.0.1 in /usr/local/lib/python3.10/dist-packages (from matplotlib==3.7.1) (1.2.1)\n",
            "Requirement already satisfied: cycler>=0.10 in /usr/local/lib/python3.10/dist-packages (from matplotlib==3.7.1) (0.12.1)\n",
            "Requirement already satisfied: fonttools>=4.22.0 in /usr/local/lib/python3.10/dist-packages (from matplotlib==3.7.1) (4.53.1)\n",
            "Requirement already satisfied: kiwisolver>=1.0.1 in /usr/local/lib/python3.10/dist-packages (from matplotlib==3.7.1) (1.4.5)\n",
            "Requirement already satisfied: numpy>=1.20 in /usr/local/lib/python3.10/dist-packages (from matplotlib==3.7.1) (1.26.4)\n",
            "Requirement already satisfied: packaging>=20.0 in /usr/local/lib/python3.10/dist-packages (from matplotlib==3.7.1) (24.1)\n",
            "Requirement already satisfied: pillow>=6.2.0 in /usr/local/lib/python3.10/dist-packages (from matplotlib==3.7.1) (9.4.0)\n",
            "Requirement already satisfied: pyparsing>=2.3.1 in /usr/local/lib/python3.10/dist-packages (from matplotlib==3.7.1) (3.1.2)\n",
            "Requirement already satisfied: python-dateutil>=2.7 in /usr/local/lib/python3.10/dist-packages (from matplotlib==3.7.1) (2.8.2)\n",
            "Requirement already satisfied: six>=1.5 in /usr/local/lib/python3.10/dist-packages (from python-dateutil>=2.7->matplotlib==3.7.1) (1.16.0)\n"
          ]
        }
      ]
    },
    {
      "cell_type": "markdown",
      "source": [
        "## Exercicio 2\n",
        "Escreva um código para importar a biblioteca numpy com o alias np.\n",
        "\n"
      ],
      "metadata": {
        "id": "5tjuc6mmPcYT"
      }
    },
    {
      "cell_type": "code",
      "source": [
        "import numpy as np"
      ],
      "metadata": {
        "id": "lRsashMyO68Q"
      },
      "execution_count": null,
      "outputs": []
    },
    {
      "cell_type": "markdown",
      "source": [
        "## Exercicio 3\n",
        "Crie um programa que leia a seguinte lista de números e escolha um número desta aleatoriamente.\n",
        "\n",
        "lista = [8, 12, 54, 23, 43, 1, 90, 87, 105, 77]"
      ],
      "metadata": {
        "id": "jNZxASDVQfJy"
      }
    },
    {
      "cell_type": "code",
      "source": [
        "from random import choice\n",
        "\n",
        "lista = [8, 12, 54, 23, 43, 1, 90, 87, 105, 77]\n",
        "\n",
        "escolha = choice(lista)\n",
        "escolha"
      ],
      "metadata": {
        "colab": {
          "base_uri": "https://localhost:8080/"
        },
        "id": "Im5Hy9HtPk9y",
        "outputId": "c1be1234-9d1c-41a4-f6da-39a9401f206f"
      },
      "execution_count": null,
      "outputs": [
        {
          "output_type": "execute_result",
          "data": {
            "text/plain": [
              "54"
            ]
          },
          "metadata": {},
          "execution_count": 4
        }
      ]
    },
    {
      "cell_type": "markdown",
      "source": [
        "## Exercicio 4\n",
        "Crie um programa que sorteia, aleatoriamente, um número inteiro positivo menor que 100.\n",
        "\n",
        "Dica: use a função randrange() da biblioteca random. Essa função recebe como parâmetro o valor limite para a escolha aleatória ou um intervalo se passado o limite mínimo e máximo. Por exemplo, randrange(5) gera valores inteiros menores que 5."
      ],
      "metadata": {
        "id": "NgdYCB8MQ0wR"
      }
    },
    {
      "cell_type": "code",
      "source": [
        "from random import randrange\n",
        "\n",
        "escolha = randrange(start= 2, stop = 101, step=2)\n",
        "escolha"
      ],
      "metadata": {
        "colab": {
          "base_uri": "https://localhost:8080/"
        },
        "id": "59pl9DlKQv9f",
        "outputId": "044cb86b-8308-4294-dbd5-c8e8c12d73e8"
      },
      "execution_count": null,
      "outputs": [
        {
          "output_type": "execute_result",
          "data": {
            "text/plain": [
              "76"
            ]
          },
          "metadata": {},
          "execution_count": 12
        }
      ]
    },
    {
      "cell_type": "markdown",
      "source": [
        "## Exercicio 5\n",
        "Crie um programa que solicite à pessoa usuária digitar dois números inteiros e calcular a potência do 1º número elevado ao 2º.\n",
        "\n",
        "Dica: use a função pow() da biblioteca math"
      ],
      "metadata": {
        "id": "liTQCYolTowI"
      }
    },
    {
      "cell_type": "code",
      "source": [
        "from math import pow\n",
        "\n",
        "digito_1 = int(input(\"digite o primeiro numero: \"))\n",
        "digito_2 = int(input(\"digite o segundo numero: \"))\n",
        "\n",
        "numero_calculado = pow(digito_1, digito_2)\n",
        "\n",
        "print(f'digito {digito_1} elevado a {digito_2} vale {numero_calculado}.')"
      ],
      "metadata": {
        "colab": {
          "base_uri": "https://localhost:8080/"
        },
        "id": "OnAtrHWgTZct",
        "outputId": "91baffec-d4ba-4ddb-8640-b3df237295d3"
      },
      "execution_count": null,
      "outputs": [
        {
          "output_type": "stream",
          "name": "stdout",
          "text": [
            "digite o primeiro numero: 3\n",
            "digite o segundo numero: 2\n",
            "digito 3 elevado a 2 vale 9.0.\n"
          ]
        }
      ]
    },
    {
      "cell_type": "markdown",
      "source": [
        "## Exercicio 6\n",
        "Um programa deve ser escrito para sortear uma pessoa seguidora de uma rede social para ganhar um prêmio. A lista de participantes é numerada e devemos escolher aleatoriamente um número de acordo com a quantidade de participantes. Peça à pessoa usuária para fornecer o número de participantes do sorteio e devolva para ela o número sorteado."
      ],
      "metadata": {
        "id": "pvR3-ldPUjZu"
      }
    },
    {
      "cell_type": "code",
      "source": [
        "from random import randrange\n",
        "\n",
        "qtd_pessoas = int(input('digite a quantidade de pessoas no sorteio: '))\n",
        "\n",
        "pessoa_escolhida = randrange(start = 1, stop = qtd_pessoas)\n",
        "\n",
        "print(qtd_pessoas)\n",
        "print(f'temos {qtd_pessoas} pessoas e a pessoa escolhida é a de número {pessoa_escolhida}.')"
      ],
      "metadata": {
        "colab": {
          "base_uri": "https://localhost:8080/"
        },
        "id": "MeYb2DbgT9Fx",
        "outputId": "c29d9ec9-e0f8-4405-a942-708cdd7e8a65"
      },
      "execution_count": null,
      "outputs": [
        {
          "output_type": "stream",
          "name": "stdout",
          "text": [
            "digite a quantidade de pessoas no sorteio: 10\n",
            "10\n",
            "temos 10 pessoas e a pessoa escolhida é a de número 7.\n"
          ]
        }
      ]
    },
    {
      "cell_type": "markdown",
      "source": [
        "## Exercicio 7\n",
        "Você recebeu uma demanda para gerar números de token para acessar o aplicativo de uma empresa. O token precisa ser par e variar de 1000 até 9998. Escreva um código que solicita à pessoa usuária o seu nome e exibe uma mensagem junto a esse token gerado aleatoriamente.\n",
        "\n",
        "\"Olá, [nome], o seu token de acesso é [token]! Seja bem-vindo(a)!\""
      ],
      "metadata": {
        "id": "2vSWdLa0VnGv"
      }
    },
    {
      "cell_type": "code",
      "source": [
        "from random import randrange\n",
        "\n",
        "nome = str(input('olá! digite seu nome a seguir: '))\n",
        "\n",
        "token = randrange(start= 1000, stop= 9999, step= 2)\n",
        "\n",
        "print(f'Olá, {nome}, o seu token de acesso é {token}! Seja bem vindo(a)!')"
      ],
      "metadata": {
        "colab": {
          "base_uri": "https://localhost:8080/"
        },
        "id": "j2JIWFZFUwOR",
        "outputId": "788bbab1-118d-45da-e871-7c360a569ee8"
      },
      "execution_count": null,
      "outputs": [
        {
          "output_type": "stream",
          "name": "stdout",
          "text": [
            "olá! digite seu nome a seguir: rafael\n",
            "Olá, rafael, o seu token de acesso é 3554! Seja bem vindo(a)!\n"
          ]
        }
      ]
    },
    {
      "cell_type": "markdown",
      "source": [
        "## Exercicio 8\n",
        "Para diversificar e atrair novos(as) clientes, uma lanchonete criou um item misterioso em seu cardápio chamado \"salada de frutas surpresa\". Neste item, são escolhidas aleatoriamente 3 frutas de uma lista de 12 para compor a salada de frutas da pessoa cliente. Crie o código que faça essa seleção aleatória de acordo com a lista abaixo:\n",
        "\n",
        "frutas = [\"maçã\", \"banana\", \"uva\", \"pêra\",\n",
        "          \"manga\", \"coco\", \"melancia\", \"mamão\",\n",
        "          \"laranja\", \"abacaxi\", \"kiwi\", \"ameixa\"]"
      ],
      "metadata": {
        "id": "isNnv_H6XSes"
      }
    },
    {
      "cell_type": "code",
      "source": [
        " from random import choices\n",
        "\n",
        " frutas = [\"maçã\", \"banana\", \"uva\", \"pêra\",\n",
        "          \"manga\", \"coco\", \"melancia\", \"mamão\",\n",
        "          \"laranja\", \"abacaxi\", \"kiwi\", \"ameixa\"]\n",
        "\n",
        "salada = choices(population = frutas, k=3)\n",
        "\n",
        "salada"
      ],
      "metadata": {
        "colab": {
          "base_uri": "https://localhost:8080/"
        },
        "id": "Vqw2w-vDV6L5",
        "outputId": "5372ffd2-a431-4670-af9a-121a487b9aa4"
      },
      "execution_count": null,
      "outputs": [
        {
          "output_type": "execute_result",
          "data": {
            "text/plain": [
              "['manga', 'kiwi', 'uva']"
            ]
          },
          "metadata": {},
          "execution_count": 40
        }
      ]
    },
    {
      "cell_type": "markdown",
      "source": [
        "## Exercicio 9\n",
        "Você recebeu um desafio de calcular a raiz quadrada de uma lista de números, identificando quais resultaram em um número inteiro. A lista é a seguinte:\n",
        "\n",
        "numeros = [2, 8, 15, 23, 91, 112, 256]\n",
        "\n",
        "No final, informe quais números possuem raízes inteiras e seus respectivos valores.\n",
        "\n",
        "Dica: use a comparação entre a divisão inteira (//) da raiz por 1 com o valor da raiz para verificar se o número é inteiro. Por exemplo:\n",
        "\n",
        "num = 1.5\n",
        "num_2 = 2\n",
        "print(f'{num} é inteiro? :', num // 1 == num)\n",
        "print(f'{num_2} é inteiro? :', num_2 // 1 == num_2)\n",
        "\n",
        "Saída:\n",
        "\n",
        "1.5 é inteiro? : False\n",
        "2 é inteiro? : True"
      ],
      "metadata": {
        "id": "ib7dClIWYQYn"
      }
    },
    {
      "cell_type": "code",
      "source": [
        "from math import sqrt\n",
        "\n",
        "numeros = [2, 8, 15, 23, 91, 112, 256]\n",
        "\n",
        "for i in numeros:\n",
        "  raiz = sqrt(i)\n",
        "  print(f'a raiz de {i} é {raiz}.')\n",
        "  print(f'{raiz} é inteiro? :', raiz//1 == raiz)"
      ],
      "metadata": {
        "colab": {
          "base_uri": "https://localhost:8080/"
        },
        "id": "56KZArHIXj3a",
        "outputId": "c67f4db6-cad8-4b00-93ca-469dc6e34212"
      },
      "execution_count": null,
      "outputs": [
        {
          "output_type": "stream",
          "name": "stdout",
          "text": [
            "a raiz de 2 é 1.4142135623730951.\n",
            "1.4142135623730951 é inteiro? : False\n",
            "a raiz de 8 é 2.8284271247461903.\n",
            "2.8284271247461903 é inteiro? : False\n",
            "a raiz de 15 é 3.872983346207417.\n",
            "3.872983346207417 é inteiro? : False\n",
            "a raiz de 23 é 4.795831523312719.\n",
            "4.795831523312719 é inteiro? : False\n",
            "a raiz de 91 é 9.539392014169456.\n",
            "9.539392014169456 é inteiro? : False\n",
            "a raiz de 112 é 10.583005244258363.\n",
            "10.583005244258363 é inteiro? : False\n",
            "a raiz de 256 é 16.0.\n",
            "16.0 é inteiro? : True\n"
          ]
        }
      ]
    },
    {
      "cell_type": "markdown",
      "source": [
        "##Exercicio 10\n",
        "Faça um programa para uma loja que vende grama para jardins. Essa loja trabalha com jardins circulares e o preço do metro quadrado da grama é de R$ 25,00. Peça à pessoa usuária o raio da área circular e devolva o valor em reais do quanto precisará pagar.\n",
        "\n",
        "Dica: use a variável pi e o método pow() da biblioteca math. O cálculo da área de um círculo é de: A = π*r^2 (lê-se pi vezes raio ao quadrado).\n",
        "\n",
        "Caso precise de ajuda, opções de solução das atividades estão disponíveis na seção “Opinião da pessoa instrutora”.|"
      ],
      "metadata": {
        "id": "FXgD-g-tbeVE"
      }
    },
    {
      "cell_type": "code",
      "source": [
        "from math import pow\n",
        "\n",
        "raio = float(input('digite o raio da area: '))\n",
        "\n",
        "area = 3.14*pow(raio, 2)\n",
        "total_pagar = area * 25\n",
        "\n",
        "print(f'\\n---Total a pagar---\\nRaio de {raio} metros\\nÁrea de {area} metros quadrados\\nValor total de R${total_pagar}.')"
      ],
      "metadata": {
        "colab": {
          "base_uri": "https://localhost:8080/"
        },
        "id": "w6ZeCC69YhOG",
        "outputId": "da92515a-f85b-4f23-bb80-6d3d5a18dde5"
      },
      "execution_count": null,
      "outputs": [
        {
          "output_type": "stream",
          "name": "stdout",
          "text": [
            "digite o raio da area: 1\n",
            "\n",
            "---Total a pagar---\n",
            "Raio de 1.0 metros\n",
            "Área de 3.14 metros quadrados\n",
            "Valor total de R$78.5.\n"
          ]
        }
      ]
    },
    {
      "cell_type": "markdown",
      "source": [
        "# Funções"
      ],
      "metadata": {
        "id": "5LjXg5zubTjE"
      }
    },
    {
      "cell_type": "markdown",
      "source": [
        "##Exercicio 1\n",
        "Escreva um código que lê a lista abaixo e faça:\n",
        "\n",
        "lista = [16, 14, 63, 65, 17, 99, 70, 11, 20, 48, 79, 32, 17, 89, 12, 25, 66]\n",
        "\n",
        "* A leitura do tamanho da lista\n",
        "* A leitura do maior e menor valor\n",
        "* A soma dos valores da lista\n",
        "\n",
        "Ao final exiba uma mensagem dizendo:\n",
        "\n",
        "\"A lista possui [tam] números em que o maior número é [maior] e o menor número é [menor]. A soma dos valores presentes nela é igual a [soma]\"\n",
        "\n",
        "Dica: use as funções embutidas presentes na documentação do Python."
      ],
      "metadata": {
        "id": "74v-9ysDbY7i"
      }
    },
    {
      "cell_type": "code",
      "source": [
        "lista = [16, 14, 63, 65, 17, 99, 70, 11, 20, 48, 79, 32, 17, 89, 12, 25, 66]\n",
        "\n",
        "def stats_lista(lista):\n",
        "  tamanho = len(lista)\n",
        "  maior = max(lista)\n",
        "  menor = min(lista)\n",
        "  soma = sum(lista)\n",
        "\n",
        "  return (tamanho, maior, menor, soma)\n",
        "\n",
        "tamanho, maior, menor, soma = stats_lista(lista)\n",
        "\n",
        "print(f'A lista possui {tamanho} números em que o maior número é {maior} e o menor número é {menor}. A soma dos valores presentes nela é igual a {soma}.')"
      ],
      "metadata": {
        "colab": {
          "base_uri": "https://localhost:8080/"
        },
        "id": "8aO6WNopbjGp",
        "outputId": "c2775166-9e01-442b-d1cb-e19dbea9b581"
      },
      "execution_count": null,
      "outputs": [
        {
          "output_type": "stream",
          "name": "stdout",
          "text": [
            "A lista possui 17 números em que o maior número é 99 e o menor número é 11. A soma dos valores presentes nela é igual a 743.\n"
          ]
        }
      ]
    },
    {
      "cell_type": "markdown",
      "source": [
        "## Exercicio 2\n",
        "Escreva uma função que gere a tabuada de um número inteiro de 1 a 10, de acordo com a escolha da pessoa usuária. Como exemplo, para o número 7, a tabuada deve ser mostrada no seguinte formato:\n",
        "\n",
        "Tabuada do 7:\n",
        "* 7 x 0 = 0\n",
        "* 7 x 1 = 7\n",
        "* [...]\n",
        "* 7 x 10 = 70"
      ],
      "metadata": {
        "id": "PuYo1YHkeGij"
      }
    },
    {
      "cell_type": "code",
      "source": [
        "numero = int(input('digite um numero inteiro: '))\n",
        "\n",
        "def tabuada(numero):\n",
        "  #contador = 0\n",
        "  for contador in range(1,11,1):\n",
        "    multiplicacao = numero * contador\n",
        "    print(f'{numero} x {contador} = {multiplicacao}')\n",
        "\n",
        "tabuada(numero)"
      ],
      "metadata": {
        "colab": {
          "base_uri": "https://localhost:8080/"
        },
        "id": "-yhKGlofbkzB",
        "outputId": "f532b333-fc93-40c1-8d70-49a3901713d7"
      },
      "execution_count": null,
      "outputs": [
        {
          "output_type": "stream",
          "name": "stdout",
          "text": [
            "digite um numero inteiro: 5\n",
            "5 x 1 = 5\n",
            "5 x 2 = 10\n",
            "5 x 3 = 15\n",
            "5 x 4 = 20\n",
            "5 x 5 = 25\n",
            "5 x 6 = 30\n",
            "5 x 7 = 35\n",
            "5 x 8 = 40\n",
            "5 x 9 = 45\n",
            "5 x 10 = 50\n"
          ]
        }
      ]
    },
    {
      "cell_type": "markdown",
      "source": [
        "##Exercicio 3\n",
        "Crie a função que leia a lista abaixo e retorne uma nova lista com os múltiplos de 3:\n",
        "\n",
        "* [97, 80, 94, 88, 80, 1, 16, 53, 62, 32, 24, 99]\n",
        "\n",
        "\n",
        "Utilize o return na função e salve a nova lista na variável mult_3."
      ],
      "metadata": {
        "id": "PUr8vIjEgg4V"
      }
    },
    {
      "cell_type": "code",
      "source": [
        "def filtrar_multiplos_de_3(lista):\n",
        "    mult_3 = [x for x in lista if x % 3 == 0]\n",
        "    return mult_3\n",
        "\n",
        "lista = [97, 80, 94, 88, 80, 1, 16, 53, 62, 32, 24, 99]\n",
        "mult_3 = filtrar_multiplos_de_3(lista)\n",
        "print(mult_3)"
      ],
      "metadata": {
        "colab": {
          "base_uri": "https://localhost:8080/"
        },
        "id": "NWGk1nWHeZJX",
        "outputId": "8298933d-421e-4e45-b253-f1b6542feb22"
      },
      "execution_count": 3,
      "outputs": [
        {
          "output_type": "stream",
          "name": "stdout",
          "text": [
            "[24, 99]\n"
          ]
        }
      ]
    },
    {
      "cell_type": "markdown",
      "source": [
        "##Exercicio 4\n",
        "Crie uma lista dos quadrados dos números da seguinte lista [1, 2, 3, 4, 5, 6, 7, 8, 9, 10]. Lembre-se de utilizar as funções lambda e map() para calcular o quadrado de cada elemento da lista."
      ],
      "metadata": {
        "id": "cM9W_p-YdFoT"
      }
    },
    {
      "cell_type": "code",
      "source": [
        "from math import pow\n",
        "lista = [1, 2, 3, 4, 5, 6, 7, 8, 9, 10]\n",
        "\n",
        "quadrado = map(lambda x: pow(x,2), lista)\n",
        "quadrado\n",
        "\n",
        "quadrado = list(quadrado)\n",
        "quadrado"
      ],
      "metadata": {
        "id": "pdPXdprtgz60",
        "colab": {
          "base_uri": "https://localhost:8080/"
        },
        "outputId": "357400cb-a932-4e8c-f900-929e7c8bc751"
      },
      "execution_count": 7,
      "outputs": [
        {
          "output_type": "execute_result",
          "data": {
            "text/plain": [
              "[1.0, 4.0, 9.0, 16.0, 25.0, 36.0, 49.0, 64.0, 81.0, 100.0]"
            ]
          },
          "metadata": {},
          "execution_count": 7
        }
      ]
    },
    {
      "cell_type": "markdown",
      "source": [
        "## Exercicio 5\n",
        "Você foi contratado(a) como cientista de dados de uma associação de skate. Para analisar as notas recebidas de skatistas em algumas competições ao longo do ano, você precisa criar um código que calcula a pontuação dos(as) atletas.\n",
        "\n",
        "Para isso, o seu código deve receber 5 notas digitadas pelas pessoas juradas.\n",
        "\n",
        "Para calcular a pontuação de um(a) skatista, você precisa eliminar a maior e a menor pontuação dentre as 5 notas e tirar a média das 3 notas que sobraram. Retorne a média para apresentar o texto:\n",
        "\n",
        "\"Nota da manobra: [media]\""
      ],
      "metadata": {
        "id": "0yh9yqyGe2Xv"
      }
    },
    {
      "cell_type": "code",
      "source": [
        "lista_media = []\n",
        "notas = []\n",
        "max_nota = 0\n",
        "min_nota = 0\n",
        "\n",
        "for i in range(5):\n",
        "    nota = float(input(f\"Digite a nota {i+1}: \"))\n",
        "    notas.append(nota)\n",
        "\n",
        "max_nota = max(notas)\n",
        "min_nota = min(notas)\n",
        "\n",
        "for item in notas:\n",
        "  if item != max_nota and item != min_nota:\n",
        "    lista_media.append(item)\n",
        "\n",
        "media = sum(lista_media)/len(lista_media)\n",
        "print(f'\\na média é de {media}.')"
      ],
      "metadata": {
        "colab": {
          "base_uri": "https://localhost:8080/"
        },
        "id": "0kjjipBmfnX4",
        "outputId": "0953a07b-fc27-44fd-abf2-4f165d1e2ee6"
      },
      "execution_count": 24,
      "outputs": [
        {
          "output_type": "stream",
          "name": "stdout",
          "text": [
            "Digite a nota 1: 1\n",
            "Digite a nota 2: 2\n",
            "Digite a nota 3: 3\n",
            "Digite a nota 4: 4\n",
            "Digite a nota 5: 5\n",
            "\n",
            "a média é de 3.0.\n"
          ]
        }
      ]
    },
    {
      "cell_type": "markdown",
      "source": [
        "## Exercicio 6\n",
        "Para atender a uma demanda de uma instituição de ensino para a análise do desempenho de seus(suas) estudantes, você precisa criar uma função que receba uma lista de 4 notas e retorne:\n",
        "\n",
        "* maior nota\n",
        "* menor nota\n",
        "* média\n",
        "* situação (Aprovado(a) ou Reprovado(a))\n",
        "\n",
        "Para testar o comportamento da função, os dados podem ser exibidos em um texto:\n",
        "\n",
        "* \"O(a) estudante obteve uma média de [media], com a sua maior nota de [maior] pontos e a menor nota de [menor] pontos e foi [situacao]\""
      ],
      "metadata": {
        "id": "-pOzrSDWjeD-"
      }
    },
    {
      "cell_type": "code",
      "source": [
        "notas = []\n",
        "\n",
        "max_nota = 0\n",
        "min_nota = 0\n",
        "\n",
        "for i in range(4):\n",
        "    nota = float(input(f'Digite a nota {i+1}: '))\n",
        "    notas.append(nota)\n",
        "\n",
        "max_nota = max(notas)\n",
        "min_nota = min(notas)\n",
        "media = sum(notas)/len(notas)\n",
        "\n",
        "if media >= 6:\n",
        "  situacao = 'aprovado'\n",
        "else:\n",
        "  situacao = 'reprovado'\n",
        "\n",
        "print(f'\\nO(a) estudante obteve uma média de {media}, com a sua maior nota de {max_nota} pontos e a menor nota de {min_nota} pontos e foi {situacao}.')"
      ],
      "metadata": {
        "colab": {
          "base_uri": "https://localhost:8080/"
        },
        "id": "WNmo51eLheiK",
        "outputId": "331ee358-f9ed-43c1-af74-cbdec98035a7"
      },
      "execution_count": 32,
      "outputs": [
        {
          "output_type": "stream",
          "name": "stdout",
          "text": [
            "Digite a nota 1: 7\n",
            "Digite a nota 2: 6\n",
            "Digite a nota 3: 5\n",
            "Digite a nota 4: 4\n",
            "\n",
            "O(a) estudante obteve uma média de 5.5, com a sua maior nota de 7.0 pontos e a menor nota de 4.0 pontos e foi reprovado.\n"
          ]
        }
      ]
    },
    {
      "cell_type": "markdown",
      "source": [
        "## Exercicio 7\n",
        "Você recebeu uma demanda para tratar 2 listas com os nomes e sobrenomes de cada estudante concatenando-as para apresentar seus nomes completos na forma Nome Sobrenome. As listas são:\n",
        "\n",
        "* nomes = [\"joão\", \"MaRia\", \"JOSÉ\"]\n",
        "* sobrenomes = [\"SILVA\", \"souza\", \"Tavares\"]\n",
        "\n",
        "O texto exibido ao fim deve ser parecido com:\n",
        "\n",
        "* \"Nome completo: Ana Silva\"\n",
        "\n",
        "Dica: utilize a função map para mapear os nomes e sobrenomes e as funções de string para tratar o texto."
      ],
      "metadata": {
        "id": "PWw4w7AylVj3"
      }
    },
    {
      "cell_type": "code",
      "source": [
        "nomes = [\"joão\", \"MaRia\", \"JOSÉ\"]\n",
        "sobrenomes = [\"SILVA\", \"souza\", \"Tavares\"]\n",
        "\n",
        "# Função para formatar nomes e sobrenomes\n",
        "def formatar_nome(nome, sobrenome):\n",
        "    return f\"{nome.capitalize()} {sobrenome.capitalize()}\"\n",
        "\n",
        "# Usar map para aplicar a formatação a cada par de nome e sobrenome\n",
        "nomes_completos = map(formatar_nome, map(str.lower, nomes), map(str.title, sobrenomes))\n",
        "\n",
        "# Exibir os nomes completos\n",
        "for nome_completo in nomes_completos:\n",
        "    print(f\"Nome completo: {nome_completo}\")"
      ],
      "metadata": {
        "colab": {
          "base_uri": "https://localhost:8080/"
        },
        "id": "YFycJ15lmPM6",
        "outputId": "8633ec90-522a-44fb-e06b-293bc1749e81"
      },
      "execution_count": 46,
      "outputs": [
        {
          "output_type": "stream",
          "name": "stdout",
          "text": [
            "Nome completo: João Silva\n",
            "Nome completo: Maria Souza\n",
            "Nome completo: José Tavares\n"
          ]
        }
      ]
    },
    {
      "cell_type": "markdown",
      "source": [
        "##Exercicio 8\n",
        "Como cientista de dados em um time de futebol, você precisa implementar novas formas de coleta de dados sobre o desempenho de jogadores e do time como um todo. Sua primeira ação é criar uma forma de calcular a pontuação do time no campeonato nacional a partir dos dados de gols marcados e sofridos em cada jogo.\n",
        "\n",
        "Escreva uma função chamada calcula_pontos que recebe como parâmetros duas listas de números inteiros, representando os gols marcados e sofridos pelo time em cada partida do campeonato. A função deve retornar a pontuação do time e o aproveitamento em percentual, levando em consideração que a vitória vale 3 pontos, o empate vale 1 ponto e a derrota 0 pontos.\n",
        "\n",
        "Observação: se a quantidade de gols marcados numa partida for maior que a de sofridos, o time venceu. Caso seja igual, o time empatou e se for menor, o time perdeu. Para calcular o aproveitamento devemos fazer a razão entre a pontuação do time pela pontuação máxima que ele poderia receber.\n",
        "\n",
        "Para teste, utilize as seguintes listas de gols marcados e sofridos:\n",
        "\n",
        "* gols_marcados = [2, 1, 3, 1, 0]\n",
        "* gols_sofridos = [1, 2, 2, 1, 3]\n",
        "\n",
        "* Provável texto exibido:\n",
        "\n",
        "\"A pontuação do time foi de [pontos] e seu aproveitamento foi de [aprov]%\""
      ],
      "metadata": {
        "id": "dkWWvcArpWWf"
      }
    },
    {
      "cell_type": "code",
      "source": [
        "def calcula_pontos(gols_marcados, gols_sofridos):\n",
        "    pontos = 0\n",
        "    num_jogos = len(gols_marcados)\n",
        "\n",
        "    for i in range(num_jogos):\n",
        "        if gols_marcados[i] > gols_sofridos[i]:\n",
        "            pontos += 3  # Vitória\n",
        "        elif gols_marcados[i] == gols_sofridos[i]:\n",
        "            pontos += 1  # Empate\n",
        "\n",
        "    pontos_maximos = num_jogos * 3\n",
        "    aproveitamento = (pontos / pontos_maximos) * 100\n",
        "\n",
        "    return pontos, aproveitamento\n",
        "\n",
        "# Testando a função\n",
        "gols_marcados = [2, 1, 3, 1, 0]\n",
        "gols_sofridos = [1, 2, 2, 1, 3]\n",
        "\n",
        "pontos, aproveitamento = calcula_pontos(gols_marcados, gols_sofridos)\n",
        "print(f\"A pontuação do time foi de {pontos} e seu aproveitamento foi de {aproveitamento:.2f}%\")"
      ],
      "metadata": {
        "colab": {
          "base_uri": "https://localhost:8080/"
        },
        "id": "NjQodcTvpxhX",
        "outputId": "ec87abd0-70bd-4841-83fe-3ea7b2d33c68"
      },
      "execution_count": 48,
      "outputs": [
        {
          "output_type": "stream",
          "name": "stdout",
          "text": [
            "A pontuação do time foi de 7 e seu aproveitamento foi de 46.67%\n"
          ]
        }
      ]
    },
    {
      "cell_type": "markdown",
      "source": [
        "## Exercicio 9\n",
        "Você recebeu o desafio de criar um código que calcula os gastos de uma viagem para uma das quatro cidades partindo de Recife, sendo elas:\n",
        "* Salvador\n",
        "* Fortaleza\n",
        "* Natal\n",
        "* Aracaju\n",
        "\n",
        "O custo da diária do hotel é de 150 reais em todas elas e o consumo de gasolina na viagem de carro é de 14 km/l, sendo que o valor da gasolina é de 5 reais o litro.\n",
        "\n",
        "Os gastos com passeios e alimentação a se fazer em cada uma delas por dia seria de [200, 400, 250, 300], respectivamente.\n",
        "\n",
        "Sabendo que as distâncias entre Recife e cada uma das cidades é de aproximadamente [850, 800, 300, 550] km, crie três funções nas quais:\n",
        "\n",
        "* a 1ª função calcule os gastos com hotel (gasto_hotel),\n",
        "* a 2ª calcule os gastos com a gasolina (gasto_gasolina) e\n",
        "* a 3ª os gastos com passeio e alimentação (gasto_passeio).\n",
        "\n",
        "Para testar, simule uma viagem de 3 dias para Salvador partindo de Recife. Considere a viagem de ida e volta de carro.\n",
        "\n",
        "* \"Com base nos gastos definidos, uma viagem de [dias] dias para [cidade] saindo de Recife custaria [gastos] reais\""
      ],
      "metadata": {
        "id": "_YvJp7RsvErs"
      }
    },
    {
      "cell_type": "code",
      "source": [
        "custo_hotel_diaria = 150\n",
        "consumo_gasolina_kml = 14\n",
        "valor_gasolina_l = 5\n",
        "dias_de_viagem = 3\n",
        "opc = 1\n",
        "\n",
        "def gasto_hotel(dias_de_viagem, custo_hotel_diaria):\n",
        "  hotel = dias_de_viagem * custo_hotel_diaria\n",
        "  return hotel\n",
        "\n",
        "def gasto_gasolina(opc, valor_gasolina_l, consumo_gasolina_kml):\n",
        "  distancia = [850, 800, 300, 550]\n",
        "\n",
        "  if opc == 1:\n",
        "    destino = 'Salvador'\n",
        "  elif opc == 2:\n",
        "    destino = 'Fortaleza'\n",
        "  elif opc == 3:\n",
        "    destino = 'Natal'\n",
        "  elif opc == 4:\n",
        "    destino = 'Aracajú'\n",
        "  else:\n",
        "    print('Pane no sistema, alguém me desconfigurou.')\n",
        "\n",
        "  if opc == 1 or opc == 2 or opc == 3 or opc == 4 :\n",
        "    distancia_total = distancia[opc-1] * 2\n",
        "    total_combustivel = distancia_total/consumo_gasolina_kml\n",
        "    preco_total_combustivel = total_combustivel * valor_gasolina_l\n",
        "\n",
        "  else:\n",
        "    print('pane no sistema, alguém me desconfigurou.')\n",
        "\n",
        "  return (destino, distancia_total, total_combustivel, preco_total_combustivel)\n",
        "\n",
        "def gasto_passeio(opc, dias_de_viagem):\n",
        "  passeio = [200, 400, 250, 300]\n",
        "\n",
        "  if opc == 1 or opc == 2 or opc == 3 or opc == 4 :\n",
        "    passeio_total = passeio[opc-1] * dias_de_viagem\n",
        "\n",
        "  return (passeio_total)\n",
        "\n",
        "total_hotel = gasto_hotel(dias_de_viagem, custo_hotel_diaria)\n",
        "destino, distancia_total, total_combustivel, preco_total_combustivel = gasto_gasolina(opc, valor_gasolina_l, consumo_gasolina_kml)\n",
        "total_passeio = gasto_passeio(opc, dias_de_viagem)\n",
        "\n",
        "gastos = total_hotel + preco_total_combustivel + total_passeio\n",
        "gastos = round(gastos,2)\n",
        "\n",
        "print(f\"Com base nos gastos definidos, uma viagem de {dias_de_viagem} dias para {destino} saindo de Recife custaria R${gastos}.\")"
      ],
      "metadata": {
        "colab": {
          "base_uri": "https://localhost:8080/"
        },
        "id": "G4grzQBLvEdZ",
        "outputId": "e036c31f-dff7-44c8-97f0-a75210126c69"
      },
      "execution_count": 91,
      "outputs": [
        {
          "output_type": "stream",
          "name": "stdout",
          "text": [
            "Com base nos gastos definidos, uma viagem de 3 dias para Salvador saindo de Recife custaria R$1657.14.\n"
          ]
        }
      ]
    },
    {
      "cell_type": "code",
      "source": [],
      "metadata": {
        "id": "k5aQHFcOxQa5"
      },
      "execution_count": 68,
      "outputs": []
    }
  ]
}